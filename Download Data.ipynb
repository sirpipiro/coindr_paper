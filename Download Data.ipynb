{
 "cells": [
  {
   "cell_type": "code",
   "execution_count": 1,
   "metadata": {},
   "outputs": [],
   "source": [
    "import requests\n",
    "import pandas as pd\n",
    "import time\n",
    "import pickle"
   ]
  },
  {
   "cell_type": "code",
   "execution_count": 2,
   "metadata": {},
   "outputs": [],
   "source": [
    "apiKey = \"2bf3b96d3b4bb02ecc8274a02e72f4b6238e5fec7588736e678265d0bd767caa\""
   ]
  },
  {
   "cell_type": "code",
   "execution_count": 3,
   "metadata": {},
   "outputs": [],
   "source": [
    "url = \"https://min-api.cryptocompare.com/data/top/mktcapfull\""
   ]
  },
  {
   "cell_type": "code",
   "execution_count": 4,
   "metadata": {},
   "outputs": [],
   "source": [
    "headers = {'authorization': 'Apikey' + apiKey}"
   ]
  },
  {
   "cell_type": "code",
   "execution_count": 5,
   "metadata": {},
   "outputs": [],
   "source": [
    "coin_count = 60"
   ]
  },
  {
   "cell_type": "code",
   "execution_count": null,
   "metadata": {},
   "outputs": [],
   "source": [
    "payload = {'limit': coin_count, 'tsym': 'USD'}\n",
    "result = requests.get(url, headers = headers, params = payload).json()\n",
    "data = pd.DataFrame(result['Data'])['CoinInfo']"
   ]
  },
  {
   "cell_type": "code",
   "execution_count": null,
   "metadata": {},
   "outputs": [],
   "source": [
    "coin_tickers = []\n",
    "for index in range(coin_count):\n",
    "    coin_tickers.append(data[index]['Name'])"
   ]
  },
  {
   "cell_type": "code",
   "execution_count": null,
   "metadata": {},
   "outputs": [],
   "source": [
    "url_hist = \"https://min-api.cryptocompare.com/data/histoday\""
   ]
  },
  {
   "cell_type": "code",
   "execution_count": null,
   "metadata": {},
   "outputs": [],
   "source": [
    "for item in coin_tickers:\n",
    "    \n",
    "    try:\n",
    "        \n",
    "        payload = {'fsym': item, 'tsym': 'USD', 'limit': 365 * 3}\n",
    "        result = requests.get(url_hist, headers = headers, params = payload).json()\n",
    "        tf = pd.DataFrame(result['Data'])\n",
    "        tf['date'] = pd.to_datetime(tf['time'], unit = 's')\n",
    "        tf = tf.set_index('date')\n",
    "    \n",
    "        tf['volume'] = tf['volumeto']\n",
    "        tf = tf.drop(['time', 'volumefrom', 'volumeto'], axis = 1)\n",
    "        #tf.to_csv(r'C:\\Users\\leo_s\\Documents\\Git Projects\\zipline_data\\daily\\\\' + item + '.csv')\n",
    "        tf.to_csv('/home/hao/Documents/trading_strats/data/daily/' + item + '.csv')\n",
    "        \n",
    "    except:\n",
    "        \n",
    "        continue"
   ]
  },
  {
   "cell_type": "code",
   "execution_count": null,
   "metadata": {},
   "outputs": [],
   "source": []
  }
 ],
 "metadata": {
  "kernelspec": {
   "display_name": "Python 3",
   "language": "python",
   "name": "python3"
  },
  "language_info": {
   "codemirror_mode": {
    "name": "ipython",
    "version": 3
   },
   "file_extension": ".py",
   "mimetype": "text/x-python",
   "name": "python",
   "nbconvert_exporter": "python",
   "pygments_lexer": "ipython3",
   "version": "3.5.6"
  }
 },
 "nbformat": 4,
 "nbformat_minor": 2
}
